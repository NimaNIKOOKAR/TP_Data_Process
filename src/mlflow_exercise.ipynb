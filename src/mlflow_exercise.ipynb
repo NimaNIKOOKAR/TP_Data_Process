{
 "cells": [
  {
   "cell_type": "markdown",
   "metadata": {},
   "source": [
    "# Track an Experiment with MLflow\n",
    "\n",
    "In this exercise, you will go through the process of training a machine learning model and apply MLOps principles to manage and monitor your machine learning pipeline.\n",
    "\n",
    "Since you have already trained initial models (Logistic Regression and Random Forest) in a previous exercise, you will track these experiments using MLflow to monitor model performance over multiple runs.\n",
    "\n",
    "You will need:\n",
    "- `MLflow` installed (`pip install mlflow`).\n",
    "\n",
    "### Objective\n",
    "\n",
    "By the end of this exercise, you will be able to set up MLflow for experiment tracking, logging model metrics, comparing multiple runs, and deploying a model using MLflow's capabilities.\n"
   ]
  },
  {
   "cell_type": "code",
   "execution_count": 1,
   "id": "f2fc18b3",
   "metadata": {},
   "outputs": [
    {
     "name": "stdout",
     "output_type": "stream",
     "text": [
      "Requirement already satisfied: mlflow in c:\\users\\niman\\onedrive\\desktop\\tp_process\\env\\lib\\site-packages (2.17.2)\n",
      "Requirement already satisfied: mlflow-skinny==2.17.2 in c:\\users\\niman\\onedrive\\desktop\\tp_process\\env\\lib\\site-packages (from mlflow) (2.17.2)\n",
      "Requirement already satisfied: Flask<4 in c:\\users\\niman\\onedrive\\desktop\\tp_process\\env\\lib\\site-packages (from mlflow) (3.0.3)\n",
      "Requirement already satisfied: alembic!=1.10.0,<2 in c:\\users\\niman\\onedrive\\desktop\\tp_process\\env\\lib\\site-packages (from mlflow) (1.14.0)\n",
      "Requirement already satisfied: docker<8,>=4.0.0 in c:\\users\\niman\\onedrive\\desktop\\tp_process\\env\\lib\\site-packages (from mlflow) (7.1.0)\n",
      "Requirement already satisfied: graphene<4 in c:\\users\\niman\\onedrive\\desktop\\tp_process\\env\\lib\\site-packages (from mlflow) (3.4.1)\n",
      "Requirement already satisfied: markdown<4,>=3.3 in c:\\users\\niman\\onedrive\\desktop\\tp_process\\env\\lib\\site-packages (from mlflow) (3.7)\n",
      "Requirement already satisfied: matplotlib<4 in c:\\users\\niman\\onedrive\\desktop\\tp_process\\env\\lib\\site-packages (from mlflow) (3.9.2)\n",
      "Requirement already satisfied: numpy<3 in c:\\users\\niman\\onedrive\\desktop\\tp_process\\env\\lib\\site-packages (from mlflow) (2.1.3)\n",
      "Requirement already satisfied: pandas<3 in c:\\users\\niman\\onedrive\\desktop\\tp_process\\env\\lib\\site-packages (from mlflow) (2.2.3)\n",
      "Requirement already satisfied: pyarrow<18,>=4.0.0 in c:\\users\\niman\\onedrive\\desktop\\tp_process\\env\\lib\\site-packages (from mlflow) (17.0.0)\n",
      "Requirement already satisfied: scikit-learn<2 in c:\\users\\niman\\onedrive\\desktop\\tp_process\\env\\lib\\site-packages (from mlflow) (1.5.2)\n",
      "Requirement already satisfied: scipy<2 in c:\\users\\niman\\onedrive\\desktop\\tp_process\\env\\lib\\site-packages (from mlflow) (1.14.1)\n",
      "Requirement already satisfied: sqlalchemy<3,>=1.4.0 in c:\\users\\niman\\onedrive\\desktop\\tp_process\\env\\lib\\site-packages (from mlflow) (2.0.36)\n",
      "Requirement already satisfied: Jinja2<4,>=3.0 in c:\\users\\niman\\onedrive\\desktop\\tp_process\\env\\lib\\site-packages (from mlflow) (3.1.4)\n",
      "Requirement already satisfied: waitress<4 in c:\\users\\niman\\onedrive\\desktop\\tp_process\\env\\lib\\site-packages (from mlflow) (3.0.1)\n",
      "Requirement already satisfied: cachetools<6,>=5.0.0 in c:\\users\\niman\\onedrive\\desktop\\tp_process\\env\\lib\\site-packages (from mlflow-skinny==2.17.2->mlflow) (5.5.0)\n",
      "Requirement already satisfied: click<9,>=7.0 in c:\\users\\niman\\onedrive\\desktop\\tp_process\\env\\lib\\site-packages (from mlflow-skinny==2.17.2->mlflow) (8.1.7)\n",
      "Requirement already satisfied: cloudpickle<4 in c:\\users\\niman\\onedrive\\desktop\\tp_process\\env\\lib\\site-packages (from mlflow-skinny==2.17.2->mlflow) (3.1.0)\n",
      "Requirement already satisfied: databricks-sdk<1,>=0.20.0 in c:\\users\\niman\\onedrive\\desktop\\tp_process\\env\\lib\\site-packages (from mlflow-skinny==2.17.2->mlflow) (0.36.0)\n",
      "Requirement already satisfied: gitpython<4,>=3.1.9 in c:\\users\\niman\\onedrive\\desktop\\tp_process\\env\\lib\\site-packages (from mlflow-skinny==2.17.2->mlflow) (3.1.43)\n",
      "Requirement already satisfied: importlib-metadata!=4.7.0,<9,>=3.7.0 in c:\\users\\niman\\onedrive\\desktop\\tp_process\\env\\lib\\site-packages (from mlflow-skinny==2.17.2->mlflow) (8.5.0)\n",
      "Requirement already satisfied: opentelemetry-api<3,>=1.9.0 in c:\\users\\niman\\onedrive\\desktop\\tp_process\\env\\lib\\site-packages (from mlflow-skinny==2.17.2->mlflow) (1.28.0)\n",
      "Requirement already satisfied: opentelemetry-sdk<3,>=1.9.0 in c:\\users\\niman\\onedrive\\desktop\\tp_process\\env\\lib\\site-packages (from mlflow-skinny==2.17.2->mlflow) (1.28.0)\n",
      "Requirement already satisfied: packaging<25 in c:\\users\\niman\\onedrive\\desktop\\tp_process\\env\\lib\\site-packages (from mlflow-skinny==2.17.2->mlflow) (24.1)\n",
      "Requirement already satisfied: protobuf<6,>=3.12.0 in c:\\users\\niman\\onedrive\\desktop\\tp_process\\env\\lib\\site-packages (from mlflow-skinny==2.17.2->mlflow) (5.28.3)\n",
      "Requirement already satisfied: pyyaml<7,>=5.1 in c:\\users\\niman\\onedrive\\desktop\\tp_process\\env\\lib\\site-packages (from mlflow-skinny==2.17.2->mlflow) (6.0.2)\n",
      "Requirement already satisfied: requests<3,>=2.17.3 in c:\\users\\niman\\onedrive\\desktop\\tp_process\\env\\lib\\site-packages (from mlflow-skinny==2.17.2->mlflow) (2.32.3)\n",
      "Requirement already satisfied: sqlparse<1,>=0.4.0 in c:\\users\\niman\\onedrive\\desktop\\tp_process\\env\\lib\\site-packages (from mlflow-skinny==2.17.2->mlflow) (0.5.1)\n",
      "Requirement already satisfied: Mako in c:\\users\\niman\\onedrive\\desktop\\tp_process\\env\\lib\\site-packages (from alembic!=1.10.0,<2->mlflow) (1.3.6)\n",
      "Requirement already satisfied: typing-extensions>=4 in c:\\users\\niman\\onedrive\\desktop\\tp_process\\env\\lib\\site-packages (from alembic!=1.10.0,<2->mlflow) (4.12.2)\n",
      "Requirement already satisfied: pywin32>=304 in c:\\users\\niman\\onedrive\\desktop\\tp_process\\env\\lib\\site-packages (from docker<8,>=4.0.0->mlflow) (308)\n",
      "Requirement already satisfied: urllib3>=1.26.0 in c:\\users\\niman\\onedrive\\desktop\\tp_process\\env\\lib\\site-packages (from docker<8,>=4.0.0->mlflow) (2.2.3)\n",
      "Requirement already satisfied: Werkzeug>=3.0.0 in c:\\users\\niman\\onedrive\\desktop\\tp_process\\env\\lib\\site-packages (from Flask<4->mlflow) (3.1.2)\n",
      "Requirement already satisfied: itsdangerous>=2.1.2 in c:\\users\\niman\\onedrive\\desktop\\tp_process\\env\\lib\\site-packages (from Flask<4->mlflow) (2.2.0)\n",
      "Requirement already satisfied: blinker>=1.6.2 in c:\\users\\niman\\onedrive\\desktop\\tp_process\\env\\lib\\site-packages (from Flask<4->mlflow) (1.8.2)\n",
      "Requirement already satisfied: graphql-core<3.3,>=3.1 in c:\\users\\niman\\onedrive\\desktop\\tp_process\\env\\lib\\site-packages (from graphene<4->mlflow) (3.2.5)\n",
      "Requirement already satisfied: graphql-relay<3.3,>=3.1 in c:\\users\\niman\\onedrive\\desktop\\tp_process\\env\\lib\\site-packages (from graphene<4->mlflow) (3.2.0)\n",
      "Requirement already satisfied: python-dateutil<3,>=2.7.0 in c:\\users\\niman\\onedrive\\desktop\\tp_process\\env\\lib\\site-packages (from graphene<4->mlflow) (2.9.0.post0)\n",
      "Requirement already satisfied: MarkupSafe>=2.0 in c:\\users\\niman\\onedrive\\desktop\\tp_process\\env\\lib\\site-packages (from Jinja2<4,>=3.0->mlflow) (3.0.2)\n",
      "Requirement already satisfied: contourpy>=1.0.1 in c:\\users\\niman\\onedrive\\desktop\\tp_process\\env\\lib\\site-packages (from matplotlib<4->mlflow) (1.3.0)\n",
      "Requirement already satisfied: cycler>=0.10 in c:\\users\\niman\\onedrive\\desktop\\tp_process\\env\\lib\\site-packages (from matplotlib<4->mlflow) (0.12.1)\n",
      "Requirement already satisfied: fonttools>=4.22.0 in c:\\users\\niman\\onedrive\\desktop\\tp_process\\env\\lib\\site-packages (from matplotlib<4->mlflow) (4.54.1)\n",
      "Requirement already satisfied: kiwisolver>=1.3.1 in c:\\users\\niman\\onedrive\\desktop\\tp_process\\env\\lib\\site-packages (from matplotlib<4->mlflow) (1.4.7)\n",
      "Requirement already satisfied: pillow>=8 in c:\\users\\niman\\onedrive\\desktop\\tp_process\\env\\lib\\site-packages (from matplotlib<4->mlflow) (11.0.0)\n",
      "Requirement already satisfied: pyparsing>=2.3.1 in c:\\users\\niman\\onedrive\\desktop\\tp_process\\env\\lib\\site-packages (from matplotlib<4->mlflow) (3.2.0)\n",
      "Requirement already satisfied: pytz>=2020.1 in c:\\users\\niman\\onedrive\\desktop\\tp_process\\env\\lib\\site-packages (from pandas<3->mlflow) (2024.2)\n",
      "Requirement already satisfied: tzdata>=2022.7 in c:\\users\\niman\\onedrive\\desktop\\tp_process\\env\\lib\\site-packages (from pandas<3->mlflow) (2024.2)\n",
      "Requirement already satisfied: joblib>=1.2.0 in c:\\users\\niman\\onedrive\\desktop\\tp_process\\env\\lib\\site-packages (from scikit-learn<2->mlflow) (1.4.2)\n",
      "Requirement already satisfied: threadpoolctl>=3.1.0 in c:\\users\\niman\\onedrive\\desktop\\tp_process\\env\\lib\\site-packages (from scikit-learn<2->mlflow) (3.5.0)\n",
      "Requirement already satisfied: greenlet!=0.4.17 in c:\\users\\niman\\onedrive\\desktop\\tp_process\\env\\lib\\site-packages (from sqlalchemy<3,>=1.4.0->mlflow) (3.1.1)\n",
      "Requirement already satisfied: colorama in c:\\users\\niman\\onedrive\\desktop\\tp_process\\env\\lib\\site-packages (from click<9,>=7.0->mlflow-skinny==2.17.2->mlflow) (0.4.6)\n",
      "Requirement already satisfied: google-auth~=2.0 in c:\\users\\niman\\onedrive\\desktop\\tp_process\\env\\lib\\site-packages (from databricks-sdk<1,>=0.20.0->mlflow-skinny==2.17.2->mlflow) (2.36.0)\n",
      "Requirement already satisfied: gitdb<5,>=4.0.1 in c:\\users\\niman\\onedrive\\desktop\\tp_process\\env\\lib\\site-packages (from gitpython<4,>=3.1.9->mlflow-skinny==2.17.2->mlflow) (4.0.11)\n",
      "Requirement already satisfied: zipp>=3.20 in c:\\users\\niman\\onedrive\\desktop\\tp_process\\env\\lib\\site-packages (from importlib-metadata!=4.7.0,<9,>=3.7.0->mlflow-skinny==2.17.2->mlflow) (3.20.2)\n",
      "Requirement already satisfied: deprecated>=1.2.6 in c:\\users\\niman\\onedrive\\desktop\\tp_process\\env\\lib\\site-packages (from opentelemetry-api<3,>=1.9.0->mlflow-skinny==2.17.2->mlflow) (1.2.14)\n",
      "Requirement already satisfied: opentelemetry-semantic-conventions==0.49b0 in c:\\users\\niman\\onedrive\\desktop\\tp_process\\env\\lib\\site-packages (from opentelemetry-sdk<3,>=1.9.0->mlflow-skinny==2.17.2->mlflow) (0.49b0)\n",
      "Requirement already satisfied: six>=1.5 in c:\\users\\niman\\onedrive\\desktop\\tp_process\\env\\lib\\site-packages (from python-dateutil<3,>=2.7.0->graphene<4->mlflow) (1.16.0)\n",
      "Requirement already satisfied: charset-normalizer<4,>=2 in c:\\users\\niman\\onedrive\\desktop\\tp_process\\env\\lib\\site-packages (from requests<3,>=2.17.3->mlflow-skinny==2.17.2->mlflow) (3.4.0)\n",
      "Requirement already satisfied: idna<4,>=2.5 in c:\\users\\niman\\onedrive\\desktop\\tp_process\\env\\lib\\site-packages (from requests<3,>=2.17.3->mlflow-skinny==2.17.2->mlflow) (3.10)\n",
      "Requirement already satisfied: certifi>=2017.4.17 in c:\\users\\niman\\onedrive\\desktop\\tp_process\\env\\lib\\site-packages (from requests<3,>=2.17.3->mlflow-skinny==2.17.2->mlflow) (2024.8.30)\n",
      "Requirement already satisfied: wrapt<2,>=1.10 in c:\\users\\niman\\onedrive\\desktop\\tp_process\\env\\lib\\site-packages (from deprecated>=1.2.6->opentelemetry-api<3,>=1.9.0->mlflow-skinny==2.17.2->mlflow) (1.16.0)\n",
      "Requirement already satisfied: smmap<6,>=3.0.1 in c:\\users\\niman\\onedrive\\desktop\\tp_process\\env\\lib\\site-packages (from gitdb<5,>=4.0.1->gitpython<4,>=3.1.9->mlflow-skinny==2.17.2->mlflow) (5.0.1)\n",
      "Requirement already satisfied: pyasn1-modules>=0.2.1 in c:\\users\\niman\\onedrive\\desktop\\tp_process\\env\\lib\\site-packages (from google-auth~=2.0->databricks-sdk<1,>=0.20.0->mlflow-skinny==2.17.2->mlflow) (0.4.1)\n",
      "Requirement already satisfied: rsa<5,>=3.1.4 in c:\\users\\niman\\onedrive\\desktop\\tp_process\\env\\lib\\site-packages (from google-auth~=2.0->databricks-sdk<1,>=0.20.0->mlflow-skinny==2.17.2->mlflow) (4.9)\n",
      "Requirement already satisfied: pyasn1<0.7.0,>=0.4.6 in c:\\users\\niman\\onedrive\\desktop\\tp_process\\env\\lib\\site-packages (from pyasn1-modules>=0.2.1->google-auth~=2.0->databricks-sdk<1,>=0.20.0->mlflow-skinny==2.17.2->mlflow) (0.6.1)\n",
      "Note: you may need to restart the kernel to use updated packages.\n"
     ]
    },
    {
     "name": "stderr",
     "output_type": "stream",
     "text": [
      "\n",
      "[notice] A new release of pip is available: 24.0 -> 24.3.1\n",
      "[notice] To update, run: python.exe -m pip install --upgrade pip\n"
     ]
    }
   ],
   "source": [
    "pip install mlflow\n"
   ]
  },
  {
   "cell_type": "markdown",
   "metadata": {},
   "source": [
    "### Step 1: Set Up MLflow and Required Libraries\n",
    "\n",
    "**Task:** Import the necessary libraries for MLflow and scikit-learn.\n",
    "\n",
    "- Import libraries such as `mlflow`, `mlflow.sklearn`, `pandas`, and others you think are necessary\n"
   ]
  },
  {
   "cell_type": "code",
   "execution_count": 19,
   "id": "35e82e34",
   "metadata": {},
   "outputs": [],
   "source": [
    "import mlflow\n",
    "import mlflow.sklearn\n",
    "import pandas as pd\n",
    "from sklearn.linear_model import LogisticRegression\n",
    "from sklearn.metrics import accuracy_score, precision_score, recall_score, f1_score\n",
    "from sklearn.model_selection import train_test_split\n",
    "from sklearn.preprocessing import OneHotEncoder\n",
    "from mlflow.models import infer_signature\n",
    "from sklearn.metrics import confusion_matrix\n",
    "import matplotlib.pyplot as plt\n",
    "import seaborn as sns\n",
    "import os\n",
    "\n",
    "\n"
   ]
  },
  {
   "cell_type": "markdown",
   "metadata": {},
   "source": [
    "### Step 2: Create and Track an Experiment with MLflow\n",
    "\n",
    "**Task:** Define a new experiment in MLflow.\n",
    "\n",
    "- What command should you use to set up a new experiment in MLflow?\n",
    "- Set up an experiment with the name \"Wearable_Device_Stress_Classifier\"\n"
   ]
  },
  {
   "cell_type": "code",
   "execution_count": 34,
   "metadata": {},
   "outputs": [
    {
     "name": "stderr",
     "output_type": "stream",
     "text": [
      "2024/11/09 16:50:27 INFO mlflow.tracking._tracking_service.client: 🏃 View run stately-shoat-608 at: http://127.0.0.1:5000/#/experiments/847870391408369880/runs/b62f307c06684c70badb0f09fd958c99.\n",
      "2024/11/09 16:50:27 INFO mlflow.tracking._tracking_service.client: 🧪 View experiment at: http://127.0.0.1:5000/#/experiments/847870391408369880.\n",
      "2024/11/09 16:50:27 INFO mlflow.tracking._tracking_service.client: 🏃 View run respected-fish-491 at: http://127.0.0.1:5000/#/experiments/847870391408369880/runs/13183eccfa28442b9c571d02791d4e29.\n",
      "2024/11/09 16:50:27 INFO mlflow.tracking._tracking_service.client: 🧪 View experiment at: http://127.0.0.1:5000/#/experiments/847870391408369880.\n"
     ]
    },
    {
     "name": "stdout",
     "output_type": "stream",
     "text": [
      "Dataset information logged to MLflow.\n",
      "  Activity Type  Heart Rate (BPM)  Body Temperature (°C)  \\\n",
      "0       walking         66.681663              37.236851   \n",
      "1       cycling         80.490124              37.070160   \n",
      "2       walking         70.650875              36.507567   \n",
      "3       cycling         92.427842              36.183344   \n",
      "4       running         97.867898              36.897490   \n",
      "\n",
      "   Acceleration X (m/s²)  Acceleration Y (m/s²)  Acceleration Z (m/s²)  \\\n",
      "0              -0.675178              -1.907808              -0.863494   \n",
      "1              -0.144519              -0.860385              -0.031203   \n",
      "2              -0.792420              -0.413606               0.018017   \n",
      "3              -0.307962               1.887688               0.472630   \n",
      "4              -1.893615               0.556553              -1.366858   \n",
      "\n",
      "   Stressed State  \n",
      "0           False  \n",
      "1           False  \n",
      "2            True  \n",
      "3            True  \n",
      "4            True  \n"
     ]
    }
   ],
   "source": [
    "mlflow.set_tracking_uri(\"http://127.0.0.1:5000\")\n",
    "mlflow.set_experiment(\"Wearable_Device_Stress_Classifier\")\n",
    "mlflow.end_run()  \n",
    "\n",
    "\n",
    "file_name = \"C:\\\\Users\\\\niman\\\\OneDrive\\\\Desktop\\\\TP_Process\\\\data\\\\Device_Dataset.csv\"\n",
    "\n",
    "\n",
    "df = pd.read_csv(file_name)\n",
    "with mlflow.start_run():\n",
    "    mlflow.log_param(\"data_shape\", df.shape)\n",
    "    mlflow.log_param(\"columns\", list(df.columns))\n",
    "    print(\"Dataset information logged to MLflow.\")\n",
    "    print(df.head()) "
   ]
  },
  {
   "cell_type": "markdown",
   "metadata": {},
   "source": [
    "**Task:** Track training metrics and log model parameters.\n",
    "\n",
    "- How would you start an MLflow run to log your experiment details?\n",
    "- Train a Logistic Regression model and track its metrics (e.g., accuracy, precision, recall, F1 score) using MLflow.\n",
    "- Log the model using `mlflow.sklearn.log_model()`.\n",
    "\n",
    "**Hint:** You should use `with mlflow.start_run():` to start an MLflow run.\n"
   ]
  },
  {
   "cell_type": "code",
   "execution_count": 32,
   "id": "73206948",
   "metadata": {},
   "outputs": [],
   "source": [
    "params = {\n",
    "    \"solver\": \"saga\",\n",
    "    \"C\": 1.0,\n",
    "    \"max_iter\": 1000,\n",
    "    \"multi_class\": \"auto\",\n",
    "    \"random_state\": 8888,\n",
    "}"
   ]
  },
  {
   "cell_type": "code",
   "execution_count": null,
   "id": "e775ba40",
   "metadata": {},
   "outputs": [],
   "source": [
    "\n",
    "def get_data(file_name):\n",
    "    \"\"\"Prepares data by reading, encoding categorical variables, and splitting into train/test sets.\"\"\"\n",
    "    df = pd.read_csv(file_name)\n",
    "    X = df.drop(columns=['Stressed State'])\n",
    "    y = df['Stressed State']\n",
    "    \n",
    "    \n",
    "    encoder = OneHotEncoder(sparse_output=False)\n",
    "    activity_encoded = encoder.fit_transform(X[['Activity Type']])\n",
    "    activity_encoded_df = pd.DataFrame(activity_encoded, columns=encoder.get_feature_names_out(['Activity Type']))\n",
    "    \n",
    "    \n",
    "    X = pd.concat([X.drop(columns=['Activity Type']), activity_encoded_df], axis=1)\n",
    "    X_train, X_test, y_train, y_test = train_test_split(X, y, test_size=0.2, random_state=42)\n",
    "    \n",
    "    return X_train, X_test, y_train, y_test"
   ]
  },
  {
   "cell_type": "code",
   "execution_count": 6,
   "id": "d1e3c428",
   "metadata": {},
   "outputs": [],
   "source": [
    "def train_model(X_train, y_train, params):\n",
    "    \"\"\"Trains a Logistic Regression model with given parameters.\"\"\"\n",
    "    model = LogisticRegression(**params)\n",
    "    model.fit(X_train, y_train)\n",
    "    return model\n",
    "\n",
    "\n",
    "def evaluate_model(model, X_test, y_test):\n",
    "    \"\"\"Generates predictions and calculates evaluation metrics.\"\"\"\n",
    "    y_pred = model.predict(X_test)\n",
    "    metrics = {\n",
    "        \"accuracy\": accuracy_score(y_test, y_pred),\n",
    "        \"precision\": precision_score(y_test, y_pred),\n",
    "        \"recall\": recall_score(y_test, y_pred),\n",
    "        \"f1_score\": f1_score(y_test, y_pred)\n",
    "    }\n",
    "    return y_pred, metrics"
   ]
  },
  {
   "cell_type": "code",
   "execution_count": null,
   "id": "7a0b90b2",
   "metadata": {},
   "outputs": [],
   "source": [
    "def log_model_to_mlflow(model, params, metrics, X_train, registered_model_name=\"Wearable_Stress_Model\"):\n",
    "    \"\"\"Logs parameters, metrics, and the model to MLflow.\"\"\"\n",
    "    with mlflow.start_run():\n",
    "        \n",
    "        mlflow.log_params(params)\n",
    "        mlflow.log_metrics(metrics)\n",
    "        \n",
    "        \n",
    "        mlflow.set_tag(\"Model Type\", \"Logistic Regression\")\n",
    "        signature = infer_signature(X_train, model.predict(X_train))\n",
    "        mlflow.sklearn.log_model(\n",
    "            sk_model=model,\n",
    "            artifact_path=\"logistic_regression_model\",\n",
    "            signature=signature,\n",
    "            input_example=X_train,\n",
    "            registered_model_name=registered_model_name\n",
    "        )\n",
    "        print(\"Model and metrics successfully logged to MLflow.\")"
   ]
  },
  {
   "cell_type": "code",
   "execution_count": 11,
   "id": "6c0088e4",
   "metadata": {},
   "outputs": [],
   "source": [
    "X_train, X_test, y_train, y_test = get_data(\"C:\\\\Users\\\\niman\\\\OneDrive\\\\Desktop\\\\TP_Process\\\\data\\\\Device_Dataset.csv\")"
   ]
  },
  {
   "cell_type": "code",
   "execution_count": null,
   "id": "4652fcb0",
   "metadata": {},
   "outputs": [
    {
     "name": "stderr",
     "output_type": "stream",
     "text": [
      "c:\\Users\\niman\\OneDrive\\Desktop\\TP_Process\\env\\Lib\\site-packages\\sklearn\\linear_model\\_logistic.py:1247: FutureWarning: 'multi_class' was deprecated in version 1.5 and will be removed in 1.7. From then on, it will always use 'multinomial'. Leave it to its default value to avoid this warning.\n",
      "  warnings.warn(\n",
      "Registered model 'Wearable_Stress_Model' already exists. Creating a new version of this model...\n",
      "2024/11/09 12:55:52 INFO mlflow.store.model_registry.abstract_store: Waiting up to 300 seconds for model version to finish creation. Model name: Wearable_Stress_Model, version 6\n",
      "Created version '6' of model 'Wearable_Stress_Model'.\n",
      "2024/11/09 12:55:52 INFO mlflow.tracking._tracking_service.client: 🏃 View run skittish-wolf-222 at: http://127.0.0.1:5000/#/experiments/847870391408369880/runs/ba7da0fc99ac42dd9814eac667d17ad2.\n",
      "2024/11/09 12:55:52 INFO mlflow.tracking._tracking_service.client: 🧪 View experiment at: http://127.0.0.1:5000/#/experiments/847870391408369880.\n"
     ]
    },
    {
     "name": "stdout",
     "output_type": "stream",
     "text": [
      "Model and metrics successfully logged to MLflow.\n"
     ]
    }
   ],
   "source": [
    "model = train_model(X_train, y_train, params)\n",
    "y_pred, metrics = evaluate_model(model, X_test, y_test)\n",
    "\n",
    "\n",
    "log_model_to_mlflow(model, params, metrics, X_train)\n"
   ]
  },
  {
   "cell_type": "markdown",
   "metadata": {},
   "source": [
    "### Step 3: Compare Multiple Runs\n",
    "\n",
    "- **Task:** Modify the model parameters (e.g., change solver type or regularization strength) and re-run the experiment log.\n",
    "- **Open the MLflow UI:** Start the MLflow UI by running:\n",
    "  ```bash\n",
    "  mlflow ui\n",
    "  ```\n",
    "- Navigate to `http://127.0.0.1:5000` to compare different experiment runs visually. Observe how changing parameters affects the metrics.\n"
   ]
  },
  {
   "cell_type": "code",
   "execution_count": 29,
   "metadata": {},
   "outputs": [
    {
     "name": "stderr",
     "output_type": "stream",
     "text": [
      "c:\\Users\\niman\\OneDrive\\Desktop\\TP_Process\\env\\Lib\\site-packages\\sklearn\\linear_model\\_logistic.py:1247: FutureWarning: 'multi_class' was deprecated in version 1.5 and will be removed in 1.7. From then on, it will always use 'multinomial'. Leave it to its default value to avoid this warning.\n",
      "  warnings.warn(\n",
      "Registered model 'Wearable_Stress_Model' already exists. Creating a new version of this model...\n",
      "2024/11/09 12:36:29 INFO mlflow.store.model_registry.abstract_store: Waiting up to 300 seconds for model version to finish creation. Model name: Wearable_Stress_Model, version 2\n",
      "Created version '2' of model 'Wearable_Stress_Model'.\n",
      "2024/11/09 12:36:30 INFO mlflow.tracking._tracking_service.client: 🏃 View run glamorous-bug-629 at: http://127.0.0.1:5000/#/experiments/847870391408369880/runs/5c9b8d56b0764c4a9195e62507498d67.\n",
      "2024/11/09 12:36:30 INFO mlflow.tracking._tracking_service.client: 🧪 View experiment at: http://127.0.0.1:5000/#/experiments/847870391408369880.\n"
     ]
    },
    {
     "name": "stdout",
     "output_type": "stream",
     "text": [
      "Run with parameters {'solver': 'liblinear', 'C': 1.0, 'max_iter': 1000, 'multi_class': 'auto', 'random_state': 8888} completed. Metrics: {'accuracy': 0.64, 'precision': np.float64(0.7014925373134329), 'recall': np.float64(0.47474747474747475), 'f1_score': np.float64(0.5662650602409639)}\n"
     ]
    },
    {
     "name": "stderr",
     "output_type": "stream",
     "text": [
      "c:\\Users\\niman\\OneDrive\\Desktop\\TP_Process\\env\\Lib\\site-packages\\sklearn\\linear_model\\_logistic.py:1247: FutureWarning: 'multi_class' was deprecated in version 1.5 and will be removed in 1.7. From then on, it will always use 'multinomial'. Leave it to its default value to avoid this warning.\n",
      "  warnings.warn(\n",
      "Registered model 'Wearable_Stress_Model' already exists. Creating a new version of this model...\n",
      "2024/11/09 12:36:33 INFO mlflow.store.model_registry.abstract_store: Waiting up to 300 seconds for model version to finish creation. Model name: Wearable_Stress_Model, version 3\n",
      "Created version '3' of model 'Wearable_Stress_Model'.\n",
      "2024/11/09 12:36:33 INFO mlflow.tracking._tracking_service.client: 🏃 View run bedecked-calf-204 at: http://127.0.0.1:5000/#/experiments/847870391408369880/runs/3ba07268c3e84199ac0124715e9da49d.\n",
      "2024/11/09 12:36:33 INFO mlflow.tracking._tracking_service.client: 🧪 View experiment at: http://127.0.0.1:5000/#/experiments/847870391408369880.\n"
     ]
    },
    {
     "name": "stdout",
     "output_type": "stream",
     "text": [
      "Run with parameters {'solver': 'liblinear', 'C': 0.5, 'max_iter': 1000, 'multi_class': 'auto', 'random_state': 8888} completed. Metrics: {'accuracy': 0.64, 'precision': np.float64(0.7014925373134329), 'recall': np.float64(0.47474747474747475), 'f1_score': np.float64(0.5662650602409639)}\n"
     ]
    },
    {
     "name": "stderr",
     "output_type": "stream",
     "text": [
      "c:\\Users\\niman\\OneDrive\\Desktop\\TP_Process\\env\\Lib\\site-packages\\sklearn\\linear_model\\_logistic.py:1247: FutureWarning: 'multi_class' was deprecated in version 1.5 and will be removed in 1.7. From then on, it will always use 'multinomial'. Leave it to its default value to avoid this warning.\n",
      "  warnings.warn(\n",
      "c:\\Users\\niman\\OneDrive\\Desktop\\TP_Process\\env\\Lib\\site-packages\\sklearn\\linear_model\\_sag.py:349: ConvergenceWarning: The max_iter was reached which means the coef_ did not converge\n",
      "  warnings.warn(\n",
      "Registered model 'Wearable_Stress_Model' already exists. Creating a new version of this model...\n",
      "2024/11/09 12:36:37 INFO mlflow.store.model_registry.abstract_store: Waiting up to 300 seconds for model version to finish creation. Model name: Wearable_Stress_Model, version 4\n",
      "Created version '4' of model 'Wearable_Stress_Model'.\n",
      "2024/11/09 12:36:37 INFO mlflow.tracking._tracking_service.client: 🏃 View run persistent-hound-108 at: http://127.0.0.1:5000/#/experiments/847870391408369880/runs/19f253addfa24968833b1bad1200da2a.\n",
      "2024/11/09 12:36:37 INFO mlflow.tracking._tracking_service.client: 🧪 View experiment at: http://127.0.0.1:5000/#/experiments/847870391408369880.\n"
     ]
    },
    {
     "name": "stdout",
     "output_type": "stream",
     "text": [
      "Run with parameters {'solver': 'saga', 'C': 1.0, 'max_iter': 1000, 'multi_class': 'auto', 'random_state': 8888} completed. Metrics: {'accuracy': 0.64, 'precision': np.float64(0.7014925373134329), 'recall': np.float64(0.47474747474747475), 'f1_score': np.float64(0.5662650602409639)}\n"
     ]
    },
    {
     "name": "stderr",
     "output_type": "stream",
     "text": [
      "c:\\Users\\niman\\OneDrive\\Desktop\\TP_Process\\env\\Lib\\site-packages\\sklearn\\linear_model\\_logistic.py:1247: FutureWarning: 'multi_class' was deprecated in version 1.5 and will be removed in 1.7. From then on, it will always use 'multinomial'. Leave it to its default value to avoid this warning.\n",
      "  warnings.warn(\n",
      "c:\\Users\\niman\\OneDrive\\Desktop\\TP_Process\\env\\Lib\\site-packages\\sklearn\\linear_model\\_sag.py:349: ConvergenceWarning: The max_iter was reached which means the coef_ did not converge\n",
      "  warnings.warn(\n",
      "Registered model 'Wearable_Stress_Model' already exists. Creating a new version of this model...\n",
      "2024/11/09 12:36:40 INFO mlflow.store.model_registry.abstract_store: Waiting up to 300 seconds for model version to finish creation. Model name: Wearable_Stress_Model, version 5\n",
      "Created version '5' of model 'Wearable_Stress_Model'.\n",
      "2024/11/09 12:36:41 INFO mlflow.tracking._tracking_service.client: 🏃 View run caring-mouse-386 at: http://127.0.0.1:5000/#/experiments/847870391408369880/runs/7c0d7387bf0f4a4783aabc7f6161865f.\n",
      "2024/11/09 12:36:41 INFO mlflow.tracking._tracking_service.client: 🧪 View experiment at: http://127.0.0.1:5000/#/experiments/847870391408369880.\n"
     ]
    },
    {
     "name": "stdout",
     "output_type": "stream",
     "text": [
      "Run with parameters {'solver': 'saga', 'C': 0.5, 'max_iter': 1000, 'multi_class': 'auto', 'random_state': 8888} completed. Metrics: {'accuracy': 0.64, 'precision': np.float64(0.7014925373134329), 'recall': np.float64(0.47474747474747475), 'f1_score': np.float64(0.5662650602409639)}\n"
     ]
    }
   ],
   "source": [
    "\n",
    "param_sets = [\n",
    "    {\"solver\": \"liblinear\", \"C\": 1.0, \"max_iter\": 1000, \"multi_class\": \"auto\", \"random_state\": 8888},\n",
    "    {\"solver\": \"liblinear\", \"C\": 0.5, \"max_iter\": 1000, \"multi_class\": \"auto\", \"random_state\": 8888},\n",
    "    {\"solver\": \"saga\", \"C\": 1.0, \"max_iter\": 1000, \"multi_class\": \"auto\", \"random_state\": 8888},\n",
    "    {\"solver\": \"saga\", \"C\": 0.5, \"max_iter\": 1000, \"multi_class\": \"auto\", \"random_state\": 8888}\n",
    "]\n",
    "\n",
    "\n",
    "for params in param_sets:\n",
    "    with mlflow.start_run():\n",
    "        \n",
    "        model = LogisticRegression(**params)\n",
    "        model.fit(X_train, y_train)\n",
    "        \n",
    "        \n",
    "        y_pred = model.predict(X_test)\n",
    "        metrics = {\n",
    "            \"accuracy\": accuracy_score(y_test, y_pred),\n",
    "            \"precision\": precision_score(y_test, y_pred),\n",
    "            \"recall\": recall_score(y_test, y_pred),\n",
    "            \"f1_score\": f1_score(y_test, y_pred)\n",
    "        }\n",
    "        \n",
    "        \n",
    "        mlflow.log_params(params)\n",
    "        mlflow.log_metrics(metrics)\n",
    "        \n",
    "        \n",
    "        mlflow.set_tag(\"Model Type\", \"Logistic Regression\")\n",
    "        \n",
    "        \n",
    "        signature = infer_signature(X_train, model.predict(X_train))\n",
    "        mlflow.sklearn.log_model(\n",
    "            sk_model=model,\n",
    "            artifact_path=\"logistic_regression_model\",\n",
    "            signature=signature,\n",
    "            input_example=X_train,\n",
    "            registered_model_name=\"Wearable_Stress_Model\"\n",
    "        )\n",
    "        \n",
    "        print(f\"Run with parameters {params} completed. Metrics: {metrics}\")\n",
    "\n",
    "\n"
   ]
  },
  {
   "cell_type": "markdown",
   "metadata": {},
   "source": [
    "### Step 4: Log additional artifacts\n",
    "\n",
    "**Task:** Log a confusion matrix as an artifact in MLflow.\n",
    "\n",
    "- How would you log a confusion matrix plot to MLflow?\n",
    "- Plot a confusion matrix for your predictions and log it as an artifact.\n",
    "\n",
    "**Hint:** Use `seaborn` for plotting and `mlflow.log_artifact()` for logging the plot.\n"
   ]
  },
  {
   "cell_type": "code",
   "execution_count": 8,
   "id": "5139e8e4",
   "metadata": {},
   "outputs": [
    {
     "name": "stdout",
     "output_type": "stream",
     "text": [
      "Requirement already satisfied: seaborn in c:\\users\\niman\\onedrive\\desktop\\tp_process\\env\\lib\\site-packages (0.13.2)\n",
      "Requirement already satisfied: numpy!=1.24.0,>=1.20 in c:\\users\\niman\\onedrive\\desktop\\tp_process\\env\\lib\\site-packages (from seaborn) (2.1.3)\n",
      "Requirement already satisfied: pandas>=1.2 in c:\\users\\niman\\onedrive\\desktop\\tp_process\\env\\lib\\site-packages (from seaborn) (2.2.3)\n",
      "Requirement already satisfied: matplotlib!=3.6.1,>=3.4 in c:\\users\\niman\\onedrive\\desktop\\tp_process\\env\\lib\\site-packages (from seaborn) (3.9.2)\n",
      "Requirement already satisfied: contourpy>=1.0.1 in c:\\users\\niman\\onedrive\\desktop\\tp_process\\env\\lib\\site-packages (from matplotlib!=3.6.1,>=3.4->seaborn) (1.3.0)\n",
      "Requirement already satisfied: cycler>=0.10 in c:\\users\\niman\\onedrive\\desktop\\tp_process\\env\\lib\\site-packages (from matplotlib!=3.6.1,>=3.4->seaborn) (0.12.1)\n",
      "Requirement already satisfied: fonttools>=4.22.0 in c:\\users\\niman\\onedrive\\desktop\\tp_process\\env\\lib\\site-packages (from matplotlib!=3.6.1,>=3.4->seaborn) (4.54.1)\n",
      "Requirement already satisfied: kiwisolver>=1.3.1 in c:\\users\\niman\\onedrive\\desktop\\tp_process\\env\\lib\\site-packages (from matplotlib!=3.6.1,>=3.4->seaborn) (1.4.7)\n",
      "Requirement already satisfied: packaging>=20.0 in c:\\users\\niman\\onedrive\\desktop\\tp_process\\env\\lib\\site-packages (from matplotlib!=3.6.1,>=3.4->seaborn) (24.1)\n",
      "Requirement already satisfied: pillow>=8 in c:\\users\\niman\\onedrive\\desktop\\tp_process\\env\\lib\\site-packages (from matplotlib!=3.6.1,>=3.4->seaborn) (11.0.0)\n",
      "Requirement already satisfied: pyparsing>=2.3.1 in c:\\users\\niman\\onedrive\\desktop\\tp_process\\env\\lib\\site-packages (from matplotlib!=3.6.1,>=3.4->seaborn) (3.2.0)\n",
      "Requirement already satisfied: python-dateutil>=2.7 in c:\\users\\niman\\onedrive\\desktop\\tp_process\\env\\lib\\site-packages (from matplotlib!=3.6.1,>=3.4->seaborn) (2.9.0.post0)\n",
      "Requirement already satisfied: pytz>=2020.1 in c:\\users\\niman\\onedrive\\desktop\\tp_process\\env\\lib\\site-packages (from pandas>=1.2->seaborn) (2024.2)\n",
      "Requirement already satisfied: tzdata>=2022.7 in c:\\users\\niman\\onedrive\\desktop\\tp_process\\env\\lib\\site-packages (from pandas>=1.2->seaborn) (2024.2)\n",
      "Requirement already satisfied: six>=1.5 in c:\\users\\niman\\onedrive\\desktop\\tp_process\\env\\lib\\site-packages (from python-dateutil>=2.7->matplotlib!=3.6.1,>=3.4->seaborn) (1.16.0)\n",
      "Note: you may need to restart the kernel to use updated packages.\n"
     ]
    },
    {
     "name": "stderr",
     "output_type": "stream",
     "text": [
      "\n",
      "[notice] A new release of pip is available: 24.0 -> 24.3.1\n",
      "[notice] To update, run: python.exe -m pip install --upgrade pip\n"
     ]
    }
   ],
   "source": [
    "pip install seaborn"
   ]
  },
  {
   "cell_type": "code",
   "execution_count": null,
   "id": "37137336",
   "metadata": {},
   "outputs": [],
   "source": [
    "def plot_and_log_confusion_matrix(y_test, y_pred):\n",
    "    \"\"\"Generates and logs a confusion matrix plot as an artifact in MLflow.\"\"\"\n",
    "    cm = confusion_matrix(y_test, y_pred)\n",
    "    \n",
    "    \n",
    "    plt.figure(figsize=(8, 6))\n",
    "    sns.heatmap(cm, annot=True, fmt=\"d\", cmap=\"Blues\", xticklabels=[\"Not Stressed\", \"Stressed\"], yticklabels=[\"Not Stressed\", \"Stressed\"])\n",
    "    plt.xlabel(\"Predicted Label\")\n",
    "    plt.ylabel(\"True Label\")\n",
    "    plt.title(\"Confusion Matrix\")\n",
    "\n",
    "    \n",
    "    os.makedirs(\"plots\", exist_ok=True)\n",
    "    plot_path = \"plots/confusion_matrix.png\"\n",
    "    plt.savefig(plot_path)\n",
    "    plt.close()\n",
    "\n",
    "   \n",
    "    mlflow.log_artifact(plot_path)\n",
    "    print(f\"Confusion matrix logged as artifact: {plot_path}\")"
   ]
  },
  {
   "cell_type": "code",
   "execution_count": 35,
   "id": "3f4e3fe3",
   "metadata": {},
   "outputs": [
    {
     "name": "stderr",
     "output_type": "stream",
     "text": [
      "c:\\Users\\niman\\OneDrive\\Desktop\\TP_Process\\env\\Lib\\site-packages\\sklearn\\linear_model\\_logistic.py:1247: FutureWarning: 'multi_class' was deprecated in version 1.5 and will be removed in 1.7. From then on, it will always use 'multinomial'. Leave it to its default value to avoid this warning.\n",
      "  warnings.warn(\n",
      "c:\\Users\\niman\\OneDrive\\Desktop\\TP_Process\\env\\Lib\\site-packages\\sklearn\\linear_model\\_sag.py:349: ConvergenceWarning: The max_iter was reached which means the coef_ did not converge\n",
      "  warnings.warn(\n",
      "Registered model 'Wearable_Stress_Model' already exists. Creating a new version of this model...\n",
      "2024/11/09 16:50:42 INFO mlflow.store.model_registry.abstract_store: Waiting up to 300 seconds for model version to finish creation. Model name: Wearable_Stress_Model, version 14\n",
      "Created version '14' of model 'Wearable_Stress_Model'.\n",
      "2024/11/09 16:50:42 INFO mlflow.tracking._tracking_service.client: 🏃 View run nervous-perch-464 at: http://127.0.0.1:5000/#/experiments/847870391408369880/runs/c835d086db0646b7b799004a854059ac.\n",
      "2024/11/09 16:50:42 INFO mlflow.tracking._tracking_service.client: 🧪 View experiment at: http://127.0.0.1:5000/#/experiments/847870391408369880.\n"
     ]
    },
    {
     "name": "stdout",
     "output_type": "stream",
     "text": [
      "Model and metrics successfully logged to MLflow.\n",
      "Confusion matrix logged as artifact: plots/confusion_matrix.png\n"
     ]
    }
   ],
   "source": [
    "model = train_model(X_train, y_train, params)\n",
    "y_pred, metrics = evaluate_model(model, X_test, y_test)\n",
    "\n",
    "\n",
    "log_model_to_mlflow(model, params, metrics, X_train)\n",
    "plot_and_log_confusion_matrix(y_test, y_pred)"
   ]
  },
  {
   "cell_type": "markdown",
   "metadata": {},
   "source": [
    "### Step 5: Model packaging with MLflow\n",
    "\n",
    "**Task:** Register the trained model in the MLflow Model Registry.\n",
    "\n",
    "- How can you register the best model for versioning and potential deployment?\n",
    "- Use the `mlflow.register_model()` function to add your model to the registry.\n",
    "\n"
   ]
  },
  {
   "cell_type": "code",
   "execution_count": null,
   "metadata": {},
   "outputs": [],
   "source": [
    "model_uri = f\"runs:/{run.info.run_id}/logistic_regression_model\"\n",
    "registered_model_name = \"Wearable_Stress_Model\"\n",
    "\n",
    "    \n",
    "registered_model = mlflow.register_model(model_uri=model_uri, name=registered_model_name)\n",
    "    \n",
    "print(f\"Model registered with name: {registered_model_name} and version: {registered_model.version}\")"
   ]
  },
  {
   "cell_type": "markdown",
   "metadata": {},
   "source": [
    "### Step 6: Deploy the model as a REST API\n",
    "\n",
    "**Task:** Deploy the registered model as a REST API using MLflow.\n",
    "\n",
    "- How would you serve the model locally?\n",
    "- Use `mlflow models serve` to start a local REST API.\n",
    "\n",
    "```bash\n",
    "mlflow models serve -m \"models:/WearableStressClassifierModel/1\" -p 1234\n",
    "```\n",
    "\n",
    "**Task:** Make a prediction request to your model's REST API.\n",
    "\n",
    "- Use Python's `requests` library to send a JSON request to the REST API and get predictions.\n"
   ]
  },
  {
   "cell_type": "code",
   "execution_count": null,
   "metadata": {},
   "outputs": [
    {
     "name": "stdout",
     "output_type": "stream",
     "text": [
      "Prediction: {'predictions': [False]}\n"
     ]
    }
   ],
   "source": [
    "import requests\n",
    "import json\n",
    "\n",
    "value1 = 70  \n",
    "value2 = 36  \n",
    "value3 = 1   \n",
    "value4 = 1   \n",
    "value5 = 0   \n",
    "value6 = 0   \n",
    "value7 = 0   \n",
    "value8 = 1   \n",
    "\n",
    "\n",
    "data = {\n",
    "    \"dataframe_records\": [\n",
    "        {\n",
    "            \"Heart Rate (BPM)\": value1,\n",
    "            \"Body Temperature (°C)\": value2,\n",
    "            \"Acceleration X (m/s²)\": value3,\n",
    "            \"Acceleration Y (m/s²)\": value4,\n",
    "            \"Acceleration Z (m/s²)\": value5,\n",
    "            \"Activity Type_cycling\": value6,\n",
    "            \"Activity Type_running\": value7,\n",
    "            \"Activity Type_walking\": value8\n",
    "        }\n",
    "    ]\n",
    "}\n",
    "\n",
    "\n",
    "response = requests.post(\"http://localhost:1234/invocations\", json=data)\n",
    "\n",
    "\n",
    "print(\"Prediction:\", response.json())"
   ]
  },
  {
   "cell_type": "markdown",
   "metadata": {},
   "source": [
    "### Step 7: Manage model versions\n",
    "\n",
    "**Task:** Explore the MLflow Model Registry.\n",
    "\n",
    "- How can you manage different versions of your model in MLflow?\n",
    "- Experiment with updating the registered model after retraining with different hyperparameters.\n"
   ]
  },
  {
   "cell_type": "code",
   "execution_count": null,
   "metadata": {},
   "outputs": [
    {
     "name": "stdout",
     "output_type": "stream",
     "text": [
      "Predictions: [False]\n"
     ]
    }
   ],
   "source": [
    "from mlflow.tracking import MlflowClient\n",
    "import mlflow.pyfunc\n",
    "import pandas as pd\n",
    "\n",
    "\n",
    "client = MlflowClient()\n",
    "\n",
    "\n",
    "client.update_model_version(\n",
    "    name=\"Wearable_Stress_Model\",\n",
    "    version=12,\n",
    "    description=\"Trained with updated parameters\"\n",
    ")\n",
    "\n",
    "\n",
    "model_version_uri = \"models:/Wearable_Stress_Model/12\"\n",
    "model = mlflow.pyfunc.load_model(model_version_uri)\n",
    "\n",
    "\n",
    "data = pd.DataFrame([{\n",
    "    \"Heart Rate (BPM)\": 70.0,\n",
    "    \"Body Temperature (°C)\": 36.0,\n",
    "    \"Acceleration X (m/s²)\": 1.0,\n",
    "    \"Acceleration Y (m/s²)\": 1.0,\n",
    "    \"Acceleration Z (m/s²)\": 0.0,\n",
    "    \"Activity Type_cycling\": 0.0,\n",
    "    \"Activity Type_running\": 0.0,\n",
    "    \"Activity Type_walking\": 1.0\n",
    "}])\n",
    "\n",
    "\n",
    "predictions = model.predict(data)\n",
    "\n",
    "\n",
    "print(\"Predictions:\", predictions)\n"
   ]
  },
  {
   "cell_type": "markdown",
   "metadata": {},
   "source": [
    "### Step 8: Automated workflow\n",
    "\n",
    "**Task:** Use MLflow Projects to automate the workflow.\n",
    "\n",
    "- Create an `MLproject` file to define the script and dependencies in a reproducible manner.\n",
    "- Run the project locally to validate your setup.\n",
    "\n",
    "```bash\n",
    "mlflow run .\n",
    "```\n"
   ]
  },
  {
   "cell_type": "code",
   "execution_count": null,
   "metadata": {},
   "outputs": [],
   "source": []
  },
  {
   "cell_type": "markdown",
   "metadata": {},
   "source": [
    "### Step 9: Visualize metrics and monitor models\n",
    "\n",
    "**Task:** Visualize metrics using the MLflow UI.\n",
    "\n",
    "- How can you use the MLflow UI to compare runs and visualize metrics like `accuracy`, `precision`, `recall`, and `f1_score`?\n",
    "- Set up custom monitoring dashboards using Grafana if needed.\n"
   ]
  },
  {
   "cell_type": "code",
   "execution_count": null,
   "metadata": {},
   "outputs": [],
   "source": []
  },
  {
   "cell_type": "markdown",
   "metadata": {},
   "source": [
    "### Summary and exploration\n",
    "\n",
    "- **Key Questions:**\n",
    "  1. How did changing model parameters impact performance metrics like accuracy, precision, and recall?\n",
    "  2. What are the benefits of tracking multiple runs using MLflow?\n",
    "  3. How can artifact logging be useful for diagnosing model behavior?\n",
    "  4. What are the challenges in deploying machine learning models, and how does MLflow assist?\n",
    "  5. How can visualizing metrics help you understand your model's performance over time?\n",
    "  6. Why is monitoring model drift important, and how can MLflow help?\n"
   ]
  },
  {
   "cell_type": "markdown",
   "id": "63565a14",
   "metadata": {},
   "source": [
    "1. I don't see much of difference between models on changing the solvers and iterations\n",
    "\n",
    "2. It helps us to compare the results of multiple models by changing their parameters \n",
    "\n",
    "3. By logging the visulisation and lggoing data snapshots helps to store and later analyze the models and diagnose the problems\n",
    "\n",
    "4. We track the different versions of the model and experiments , the models are reproductible and allows us to monitor the models\n",
    "\n",
    "5. Visualizing metrics over time reveals trends like drift, overfitting, or metric trade-offs, helping you monitor model health, set performance alerts, and fine-tune parameters to ensure reliable performance.\n",
    "\n",
    "6. Monitoring model drift is crucial to catch declines in model performance as data patterns change. MLflow helps by logging and tracking metrics over time, allowing you to spot drift early and update models quickly to maintain accuracy."
   ]
  },
  {
   "cell_type": "code",
   "execution_count": null,
   "metadata": {},
   "outputs": [],
   "source": []
  }
 ],
 "metadata": {
  "kernelspec": {
   "display_name": "env",
   "language": "python",
   "name": "python3"
  },
  "language_info": {
   "codemirror_mode": {
    "name": "ipython",
    "version": 3
   },
   "file_extension": ".py",
   "mimetype": "text/x-python",
   "name": "python",
   "nbconvert_exporter": "python",
   "pygments_lexer": "ipython3",
   "version": "3.11.9"
  }
 },
 "nbformat": 4,
 "nbformat_minor": 5
}
